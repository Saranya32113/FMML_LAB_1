{
  "nbformat": 4,
  "nbformat_minor": 0,
  "metadata": {
    "colab": {
      "provenance": [],
      "include_colab_link": true
    },
    "kernelspec": {
      "name": "python3",
      "display_name": "Python 3"
    },
    "language_info": {
      "name": "python"
    }
  },
  "cells": [
    {
      "cell_type": "markdown",
      "metadata": {
        "id": "view-in-github",
        "colab_type": "text"
      },
      "source": [
        "<a href=\"https://colab.research.google.com/github/Saranya32113/FMML_LAB_1/blob/main/Module_01_Lab_02_MLPractice.ipynb\" target=\"_parent\"><img src=\"https://colab.research.google.com/assets/colab-badge.svg\" alt=\"Open In Colab\"/></a>"
      ]
    },
    {
      "cell_type": "markdown",
      "metadata": {
        "id": "3Eu9VZbF01eq"
      },
      "source": [
        "# Machine learning terms and metrics\n",
        "\n",
        "FMML Module 1, Lab 2<br>\n",
        "\n",
        "\n",
        " In this lab, we will show a part of the ML pipeline by extracting features, training and testing"
      ]
    },
    {
      "cell_type": "code",
      "metadata": {
        "id": "8qBvyEem0vLi"
      },
      "source": [
        "import matplotlib.pyplot as plt\n",
        "import numpy as np\n",
        "from sklearn import datasets\n",
        "# set randomseed\n",
        "rng = np.random.default_rng(seed=42)"
      ],
      "execution_count": null,
      "outputs": []
    },
    {
      "cell_type": "markdown",
      "metadata": {
        "id": "u3t59g5s1HfC"
      },
      "source": [
        "In this lab, we will use the California Housing dataset. There are 20640 samples, each with 8 attributes like income of the block, age of the houses per district etc. The task is to predict the cost of the houses per district.\n",
        "\n",
        "Let us download and examine the dataset."
      ]
    },
    {
      "cell_type": "code",
      "metadata": {
        "id": "8LpqjN991GGJ",
        "colab": {
          "base_uri": "https://localhost:8080/"
        },
        "outputId": "72e15668-1686-4f75-b714-2b7606a88cc0"
      },
      "source": [
        " dataset =  datasets.fetch_california_housing()\n",
        " # print(dataset.DESCR)  # uncomment this if you want to know more about this dataset\n",
        " # print(dataset.keys())  # if you want to know what else is there in this dataset\n",
        " dataset.target = dataset.target.astype(np.int) # so that we can classify\n",
        " print(dataset.data.shape)\n",
        " print(dataset.target.shape)"
      ],
      "execution_count": null,
      "outputs": [
        {
          "output_type": "stream",
          "name": "stdout",
          "text": [
            "(20640, 8)\n",
            "(20640,)\n"
          ]
        },
        {
          "output_type": "stream",
          "name": "stderr",
          "text": [
            "<ipython-input-2-60ae2e9a125e>:4: DeprecationWarning: `np.int` is a deprecated alias for the builtin `int`. To silence this warning, use `int` by itself. Doing this will not modify any behavior and is safe. When replacing `np.int`, you may wish to use e.g. `np.int64` or `np.int32` to specify the precision. If you wish to review your current use, check the release note link for additional information.\n",
            "Deprecated in NumPy 1.20; for more details and guidance: https://numpy.org/devdocs/release/1.20.0-notes.html#deprecations\n",
            "  dataset.target = dataset.target.astype(np.int) # so that we can classify\n"
          ]
        }
      ]
    },
    {
      "cell_type": "markdown",
      "metadata": {
        "id": "iNx4174W5xRg"
      },
      "source": [
        "Here is a function for calculating the 1-nearest neighbours"
      ]
    },
    {
      "cell_type": "code",
      "metadata": {
        "id": "07zpydQj1hIQ"
      },
      "source": [
        "def NN1(traindata, trainlabel, query):\n",
        "  diff  = traindata - query  # find the difference between features. Numpy automatically takes care of the size here\n",
        "  sq = diff*diff # square the differences\n",
        "  dist = sq.sum(1) # add up the squares\n",
        "  label = trainlabel[np.argmin(dist)] # our predicted label is the label of the training data which has the least distance from the query\n",
        "  return label\n",
        "\n",
        "def NN(traindata, trainlabel, testdata):\n",
        "  # we will run nearest neighbour for each sample in the test data\n",
        "  # and collect the predicted classes in an array using list comprehension\n",
        "  predlabel = np.array([NN1(traindata, trainlabel, i) for i in testdata])\n",
        "  return predlabel"
      ],
      "execution_count": null,
      "outputs": []
    },
    {
      "cell_type": "markdown",
      "metadata": {
        "id": "03JktkfIGaje"
      },
      "source": [
        "We will also define a 'random classifier', which randomly allots labels to each sample"
      ]
    },
    {
      "cell_type": "code",
      "metadata": {
        "id": "fogWAtjyGhAH"
      },
      "source": [
        "def RandomClassifier(traindata, trainlabel, testdata):\n",
        "  # in reality, we don't need these arguments\n",
        "\n",
        "  classes = np.unique(trainlabel)\n",
        "  rints = rng.integers(low=0, high=len(classes), size=len(testdata))\n",
        "  predlabel = classes[rints]\n",
        "  return predlabel"
      ],
      "execution_count": null,
      "outputs": []
    },
    {
      "cell_type": "markdown",
      "metadata": {
        "id": "1Hjf1KHs7fU5"
      },
      "source": [
        "Let us define a metric 'Accuracy' to see how good our learning algorithm is. Accuracy is the ratio of the number of correctly classified samples to the total number of samples. The higher the accuracy, the better the algorithm."
      ]
    },
    {
      "cell_type": "code",
      "metadata": {
        "id": "ouuCqWU07bz-"
      },
      "source": [
        "def Accuracy(gtlabel, predlabel):\n",
        "  assert len(gtlabel)==len(predlabel), \"Length of the groundtruth labels and predicted labels should be the same\"\n",
        "  correct = (gtlabel==predlabel).sum() # count the number of times the groundtruth label is equal to the predicted label.\n",
        "  return correct/len(gtlabel)"
      ],
      "execution_count": null,
      "outputs": []
    },
    {
      "cell_type": "markdown",
      "metadata": {
        "id": "4vJFwBFa9Klw"
      },
      "source": [
        "Let us make a function to split the dataset with the desired probability."
      ]
    },
    {
      "cell_type": "code",
      "metadata": {
        "id": "Ko0VzpSM2Tdi"
      },
      "source": [
        "def split(data, label, percent):\n",
        "  # generate a random number for each sample\n",
        "  rnd = rng.random(len(label))\n",
        "  split1 = rnd<percent\n",
        "  split2 = rnd>=percent\n",
        "  split1data = data[split1,:]\n",
        "  split1label = label[split1]\n",
        "  split2data = data[split2,:]\n",
        "  split2label = label[split2]\n",
        "  return split1data, split1label, split2data, split2label"
      ],
      "execution_count": null,
      "outputs": []
    },
    {
      "cell_type": "markdown",
      "metadata": {
        "id": "AcK3LEAJ_LGC"
      },
      "source": [
        "We will reserve 20% of our dataset as the test set. We will not change this portion throughout our experiments"
      ]
    },
    {
      "cell_type": "code",
      "metadata": {
        "id": "bBZkHBLJ1iU-",
        "colab": {
          "base_uri": "https://localhost:8080/"
        },
        "outputId": "2d1e3123-e396-42ed-b183-cfe507a0f09b"
      },
      "source": [
        "testdata, testlabel, alltraindata, alltrainlabel = split(dataset.data, dataset.target, 20/100)\n",
        "print('Number of test samples = ', len(testlabel))\n",
        "print('Number of other samples = ', len(alltrainlabel))\n",
        "print('Percent of test data = ', len(testlabel)*100/len(dataset.target),'%')"
      ],
      "execution_count": null,
      "outputs": [
        {
          "output_type": "stream",
          "name": "stdout",
          "text": [
            "Number of test samples =  4144\n",
            "Number of other samples =  16496\n",
            "Percent of test data =  20.07751937984496 %\n"
          ]
        }
      ]
    },
    {
      "cell_type": "markdown",
      "metadata": {
        "id": "a6Ss0Z6IAGNV"
      },
      "source": [
        "## Experiments with splits\n",
        "\n",
        "Let us reserve some of our train data as a validation set"
      ]
    },
    {
      "cell_type": "code",
      "metadata": {
        "id": "WFew2iry_7W7"
      },
      "source": [
        "traindata, trainlabel, valdata, vallabel = split(alltraindata, alltrainlabel, 75/100)"
      ],
      "execution_count": null,
      "outputs": []
    },
    {
      "cell_type": "markdown",
      "metadata": {
        "id": "60hiu4clFN1i"
      },
      "source": [
        "What is the accuracy of our classifiers on the train dataset?"
      ]
    },
    {
      "cell_type": "code",
      "metadata": {
        "id": "DBlZDTHUFTZx",
        "colab": {
          "base_uri": "https://localhost:8080/"
        },
        "outputId": "02b4304a-4a80-4017-d730-397cb5ce9a85"
      },
      "source": [
        "trainpred = NN(traindata, trainlabel, traindata)\n",
        "trainAccuracy = Accuracy(trainlabel, trainpred)\n",
        "print(\"Train accuracy using nearest neighbour is \", trainAccuracy)\n",
        "\n",
        "trainpred = RandomClassifier(traindata, trainlabel, traindata)\n",
        "trainAccuracy = Accuracy(trainlabel, trainpred)\n",
        "print(\"Train accuracy using random classifier is \", trainAccuracy)"
      ],
      "execution_count": null,
      "outputs": [
        {
          "output_type": "stream",
          "name": "stdout",
          "text": [
            "Train accuracy using nearest neighbour is  1.0\n",
            "Train accuracy using random classifier is  0.164375808538163\n"
          ]
        }
      ]
    },
    {
      "cell_type": "markdown",
      "metadata": {
        "id": "7h08-9gJDtSy"
      },
      "source": [
        "For nearest neighbour, the train accuracy is always 1. The accuracy of the random classifier is close to 1/(number of classes) which is 0.1666 in our case.\n",
        "\n",
        "Let us predict the labels for our validation set and get the accuracy"
      ]
    },
    {
      "cell_type": "code",
      "metadata": {
        "id": "4h7bXoW_2H3v",
        "colab": {
          "base_uri": "https://localhost:8080/"
        },
        "outputId": "1a766dbc-8a53-4403-d0f0-2998f6fdd39d"
      },
      "source": [
        "valpred = NN(traindata, trainlabel, valdata)\n",
        "valAccuracy = Accuracy(vallabel, valpred)\n",
        "print(\"Validation accuracy using nearest neighbour is \", valAccuracy)\n",
        "\n",
        "valpred = RandomClassifier(traindata, trainlabel, valdata)\n",
        "valAccuracy = Accuracy(vallabel, valpred)\n",
        "print(\"Validation accuracy using random classifier is \", valAccuracy)"
      ],
      "execution_count": null,
      "outputs": [
        {
          "output_type": "stream",
          "name": "stdout",
          "text": [
            "Validation accuracy using nearest neighbour is  0.34108527131782945\n",
            "Validation accuracy using random classifier is  0.1688468992248062\n"
          ]
        }
      ]
    },
    {
      "cell_type": "markdown",
      "metadata": {
        "id": "py9bLguFEjfg"
      },
      "source": [
        "Validation accuracy of nearest neighbour is considerably less than its train accuracy while the validation accuracy of random classifier is the same. However, the validation accuracy of nearest neighbour is twice that of the random classifier.\n",
        "\n",
        "Now let us try another random split and check the validation accuracy"
      ]
    },
    {
      "cell_type": "code",
      "metadata": {
        "id": "ujm3cyYzEntE",
        "colab": {
          "base_uri": "https://localhost:8080/"
        },
        "outputId": "897a184b-99ce-4cef-8621-27c0a4b9aadb"
      },
      "source": [
        "traindata, trainlabel, valdata, vallabel = split(alltraindata, alltrainlabel, 75/100)\n",
        "valpred = NN(traindata, trainlabel, valdata)\n",
        "valAccuracy = Accuracy(vallabel, valpred)\n",
        "print(\"Validation accuracy of nearest neighbour is \", valAccuracy)"
      ],
      "execution_count": null,
      "outputs": [
        {
          "output_type": "stream",
          "name": "stdout",
          "text": [
            "Validation accuracy of nearest neighbour is  0.34048257372654156\n"
          ]
        }
      ]
    },
    {
      "cell_type": "markdown",
      "metadata": {
        "id": "oSOx7U83EKie"
      },
      "source": [
        "You can run the above cell multiple times to try with different random splits.\n",
        "We notice that the accuracy is different for each run, but close together.\n",
        "\n",
        "Now let us compare it with the accuracy we get on the test dataset."
      ]
    },
    {
      "cell_type": "code",
      "metadata": {
        "id": "PNEZ5ToYBEDW",
        "colab": {
          "base_uri": "https://localhost:8080/"
        },
        "outputId": "afc33a43-a016-4d5f-a947-2e0e33042bce"
      },
      "source": [
        "testpred = NN(alltraindata, alltrainlabel, testdata)\n",
        "testAccuracy = Accuracy(testlabel, testpred)\n",
        "print('Test accuracy is ', testAccuracy)"
      ],
      "execution_count": null,
      "outputs": [
        {
          "output_type": "stream",
          "name": "stdout",
          "text": [
            "Test accuracy is  0.34917953667953666\n"
          ]
        }
      ]
    },
    {
      "cell_type": "markdown",
      "metadata": {
        "id": "w3dGD531K3gH"
      },
      "source": [
        "### Try it out for yourself and answer:\n",
        "1. How is the accuracy of the validation set affected if we increase the percentage of validation set? What happens when we reduce it?\n",
        "2. How does the size of the train and validation set affect how well we can predict the accuracy on the test set using the validation set?\n",
        "3. What do you think is a good percentage to reserve for the validation set so that thest two factors are balanced?\n",
        "\n",
        "Answer for both nearest neighbour and random classifier. You can note down the values for your experiments and plot a graph using  <a href=https://matplotlib.org/stable/gallery/lines_bars_and_markers/step_demo.html#sphx-glr-gallery-lines-bars-and-markers-step-demo-py>plt.plot<href>. Check also for extreme values for splits, like 99.9% or 0.1%"
      ]
    },
    {
      "cell_type": "markdown",
      "source": [
        "\n",
        "The accuracy of a machine learning model on the validation set can be affected when you change the percentage of data allocated to the validation set. Here's what typically happens:\n",
        "\n",
        "Increasing Validation Set Percentage:\n",
        "\n",
        "Pros: Increasing the percentage of data in the validation set can provide a more robust estimate of your model's performance. It ensures that a larger portion of your data is used for validation, which can help detect overfitting or generalization issues early.\n",
        "Cons: However, if you allocate too much data to the validation set, you may have fewer samples for training, which can lead to underfitting. Your model might not learn enough from the reduced training data, resulting in lower overall accuracy.\n",
        "Reducing Validation Set Percentage:\n",
        "\n",
        "Pros: Reducing the percentage of data in the validation set means you have more data available for training. This can help your model learn better and potentially achieve higher training accuracy.\n",
        "Cons: On the downside, with a smaller validation set, you might not have a reliable estimate of how well your model generalizes to new, unseen data. This could lead to overfitting, where the model performs well on the training data but poorly on new data.\n",
        "The choice of the validation set percentage should strike a balance between having enough data to evaluate the model effectively and having sufficient data for the model to learn from. It often depends on the size of your dataset, the complexity of your model, and the specific problem you're solving. Cross-validation techniques can also be useful to mitigate the impact of varying validation set sizes."
      ],
      "metadata": {
        "id": "_4MueTpkOlyo"
      }
    },
    {
      "cell_type": "markdown",
      "source": [
        "\n",
        "The accuracy of a machine learning model on the validation set can be affected when you change the percentage of data allocated to the validation set. Here's what typically happens:\n",
        "\n",
        "Increasing Validation Set Percentage:\n",
        "\n",
        "Pros: Increasing the percentage of data in the validation set can provide a more robust estimate of your model's performance. It ensures that a larger portion of your data is used for validation, which can help detect overfitting or generalization issues early.\n",
        "Cons: However, if you allocate too much data to the validation set, you may have fewer samples for training, which can lead to underfitting. Your model might not learn enough from the reduced training data, resulting in lower overall accuracy.\n",
        "Reducing Validation Set Percentage:\n",
        "\n",
        "Pros: Reducing the percentage of data in the validation set means you have more data available for training. This can help your model learn better and potentially achieve higher training accuracy.\n",
        "Cons: On the downside, with a smaller validation set, you might not have a reliable estimate of how well your model generalizes to new, unseen data. This could lead to overfitting, where the model performs well on the training data but poorly on new data.\n",
        "The choice of the validation set percentage should strike a balance between having enough data to evaluate the model effectively and having sufficient data for the model to learn from. It often depends on the size of your dataset, the complexity of your model, and the specific problem you're solving. Cross-validation techniques can also be useful to mitigate the impact of varying validation set sizes.\n",
        "\n",
        "In practice, it's common to use a split like 80% for training and 20% for validation, but this can vary based on your specific needs and the amount of data available.\n",
        "\n",
        "\n",
        "\n",
        "Larger Training Set:\n",
        "\n",
        "Pros: A larger training set generally allows your model to learn more about the underlying patterns in the data. This can result in a model that generalizes better to unseen data (including the test set).\n",
        "Cons: If your training set is very large relative to the validation set, the validation set may not be representative enough to reliably estimate model performance. This can lead to an overly optimistic or pessimistic view of the model's capabilities.\n",
        "Larger Validation Set:\n",
        "\n",
        "Pros: A larger validation set provides a more robust estimate of your model's performance. It means you are evaluating the model on a broader sample of your data, reducing the likelihood of random variations affecting your evaluation.\n",
        "Cons: If the validation set is too large compared to the training set, you might have limited data for training, which can lead to underfitting. Your model may not learn enough to perform well on the test set.\n",
        "Balanced Split:\n",
        "\n",
        "Pros: A balanced split, where you allocate an appropriate portion of data to both training and validation sets, strikes a good balance. It allows your model to learn while providing a representative estimate of its performance.\n",
        "Cons: The trade-off is that you may have slightly less data for both training and validation compared to the cases of having a significantly larger set in one or the other"
      ],
      "metadata": {
        "id": "3lBj4PH-Ovv0"
      }
    },
    {
      "cell_type": "markdown",
      "source": [
        "The percentage to reserve for the validation set can vary depending on the size of your dataset, the complexity of your model, and the specific problem you're trying to solve. However, a commonly used split is the 80-20 rule, where you allocate 80% of your data for training and 20% for validation.\n",
        "\n",
        "This split often strikes a reasonable balance between having enough data for training (to prevent underfitting) and having a representative validation set (to get a reliable estimate of model performance). It's a good starting point for many machine learning tasks, especially when you have a moderate-sized dataset.\n",
        "\n",
        "That said, there is no one-size-fits-all answer. In some cases, you might use a 70-30 or 90-10 split, depending on your specific needs. For very large datasets, you can allocate a smaller percentage to validation, while for smaller datasets, you might use a larger validation set.\n",
        "\n",
        "Additionally, techniques like k-fold cross-validation can be employed to further balance the trade-off between training and validation sizes. In k-fold cross-validation, the data is divided into k subsets, and the model is trained and validated k times, with each subset serving as the validation set once.\n",
        "\n",
        "Ultimately, the choice of the validation set percentage should be based on empirical testing and consideration of the characteristics of your data and problem domain. You may need to experiment with different split ratios to find the one that works best for your specific use case."
      ],
      "metadata": {
        "id": "Umqj4U9oPGDP"
      }
    },
    {
      "cell_type": "markdown",
      "metadata": {
        "id": "PnYvkAZLQY7h"
      },
      "source": [
        "## Multiple Splits\n",
        "\n",
        "One way to get more accurate estimates for the test accuracy is by using <b>crossvalidation</b>. Here, we will try a simple version, where we do multiple train/val splits and take the average of validation accuracies as the test accuracy estimation. Here is a function for doing this. Note that this function will take a long time to execute."
      ]
    },
    {
      "cell_type": "code",
      "metadata": {
        "id": "E4nGCUQXBTzo"
      },
      "source": [
        "# you can use this function for random classifier also\n",
        "def AverageAccuracy(alldata, alllabel, splitpercent, iterations, classifier=NN):\n",
        "  accuracy = 0\n",
        "  for ii in range(iterations):\n",
        "    traindata, trainlabel, valdata, vallabel = split(alldata, alllabel, splitpercent)\n",
        "    valpred = classifier(traindata, trainlabel, valdata)\n",
        "    accuracy += Accuracy(vallabel, valpred)\n",
        "  return accuracy/iterations # average of all accuracies"
      ],
      "execution_count": null,
      "outputs": []
    },
    {
      "cell_type": "code",
      "metadata": {
        "id": "H3qtNar7Bbik",
        "colab": {
          "base_uri": "https://localhost:8080/"
        },
        "outputId": "b675e5c4-ed7e-43f6-e629-688eec29f7d0"
      },
      "source": [
        "print('Average validation accuracy is ', AverageAccuracy(alltraindata, alltrainlabel, 75/100, 10, classifier=NN))\n",
        "testpred = NN(alltraindata, alltrainlabel, testdata)\n",
        "print('test accuracy is ',Accuracy(testlabel, testpred) )"
      ],
      "execution_count": null,
      "outputs": [
        {
          "output_type": "stream",
          "name": "stdout",
          "text": [
            "Average validation accuracy is  0.33584635395170215\n",
            "test accuracy is  0.34917953667953666\n"
          ]
        }
      ]
    },
    {
      "cell_type": "markdown",
      "metadata": {
        "id": "33GIn4x5VH-d"
      },
      "source": [
        "This is a very simple way of doing cross-validation. There are many well-known algorithms for cross-validation, like k-fold cross-validation, leave-one-out etc. This will be covered in detail in a later module. For more information about cross-validation, check <a href=https://en.wikipedia.org/wiki/Cross-validation_(statistics)>Cross-validatioin (Wikipedia)</a>\n",
        "\n",
        "### Questions\n",
        "1. Does averaging the validation accuracy across multiple splits give more consistent results?\n",
        "2. Does it give more accurate estimate of test accuracy?\n",
        "3. What is the effect of the number of iterations on the estimate? Do we get a better estimate with higher iterations?\n",
        "4. Consider the results you got for the previous questions. Can we deal with a very small train dataset or validation dataset by increasing the iterations?\n"
      ]
    },
    {
      "cell_type": "markdown",
      "source": [
        "1.\n",
        "Yes, averaging validation accuracy across multiple splits, such as in k-fold cross-validation, can provide more consistent and reliable results compared to a single validation split. It helps reduce the impact of random variability in the data distribution or initial split. By taking the average, you get a more robust estimate of your model's performance, which can be particularly useful for assessing how well your model generalizes to unseen data."
      ],
      "metadata": {
        "id": "Tto2C6yTOa8j"
      }
    },
    {
      "cell_type": "markdown",
      "source": [
        "2.\n",
        "\n",
        "Averaging validation accuracy across multiple splits, as in k-fold cross-validation, provides a more accurate estimate of a model's performance on unseen data compared to a single validation split. However, it's important to note that the validation accuracy obtained through cross-validation is still an estimate of the model's performance on unseen test data.\n",
        "\n",
        "The purpose of cross-validation is to provide a more robust and less biased estimate of model performance by using multiple validation sets. While it can give you a better idea of how your model is likely to perform on unseen data, the ultimate measure of a model's accuracy on test data comes from a separate, held-out test set that the model has never seen during training or validation. This final test set is crucial for assessing the true generalization performance of your model."
      ],
      "metadata": {
        "id": "hH7uGHSPOc-8"
      }
    },
    {
      "cell_type": "markdown",
      "source": [
        "3.\n",
        "The number of iterations (or epochs) in the training of a machine learning model can have an impact on the estimate of its performance, but it doesn't necessarily mean that a higher number of iterations always leads to a better estimate.\n",
        "\n",
        "Here's how the number of iterations can affect the estimate:\n",
        "\n",
        "1. Underfitting: If you have too few iterations, the model may not have enough time to learn from the data, leading to underfitting. In such cases, the validation accuracy may be low, and increasing the number of iterations can improve the estimate to some extent.\n",
        "\n",
        "2. Convergence: There's a point at which the model converges, meaning it has learned as much as it can from the available data. Beyond this point, increasing the number of iterations might not significantly improve the estimate of the model's performance on unseen data.\n",
        "\n",
        "3. Overfitting: On the other hand, if you have too many iterations, the model might start overfitting the training data, meaning it learns the noise in the data rather than the underlying patterns. This can lead to high validation accuracy but poor generalization to unseen data.\n",
        "\n",
        "Finding the right number of iterations typically involves a trade-off. You want to train your model long enough to capture the underlying patterns in the data without overfitting. This balance can be determined through techniques like early stopping, where you monitor validation performance and stop training when it starts to degrade.\n",
        "\n",
        "In summary, a higher number of iterations is not guaranteed to provide a better estimate of model performance. The choice of the number of iterations should be based on a balance between underfitting and overfitting, and it's often determined through experimentation and monitoring validation performance."
      ],
      "metadata": {
        "id": "h5gDpuWrOfLz"
      }
    },
    {
      "cell_type": "markdown",
      "source": [
        "The number of iterations (epochs) in training a machine learning model can impact the estimate of its performance, but it doesn't necessarily mean that a higher number of iterations will always result in a better estimate.\n",
        "\n",
        "Here's how the number of iterations can affect the estimate:\n",
        "\n",
        "1. **Underfitting**: If you have too few iterations, the model may not have sufficient training to capture the underlying patterns in the data. This can lead to underfitting, where the model's performance on both the training and validation sets is subpar. In this case, increasing the number of iterations can potentially improve the estimate by allowing the model to learn more from the data.\n",
        "\n",
        "2. **Convergence**: There is a point at which the model reaches convergence, meaning it has learned as much as it can from the training data. Once a model has converged, further iterations may not significantly improve the estimate of its performance on unseen data. Adding more iterations beyond this point could lead to overfitting.\n",
        "\n",
        "3. **Overfitting**: On the contrary, if you have too many iterations, the model may start to memorize the training data, including noise and outliers. This can result in overfitting, where the model performs very well on the training data but poorly on the validation or test data. In this case, more iterations do not lead to a better estimate of the model's generalization performance.\n",
        "\n",
        "In practice, the number of iterations should be chosen carefully, often through techniques like early stopping. Early stopping monitors the model's performance on a validation set and stops training when it starts to degrade, which helps prevent overfitting. The ideal number of iterations depends on factors like the complexity of the model, the size and quality of the training data, and the presence of regularization techniques.\n",
        "\n",
        "So, it's not always the case that more iterations result in a better estimate of a model's performance. The key is to strike a balance between underfitting and overfitting to achieve the best generalization to unseen data."
      ],
      "metadata": {
        "id": "HuAFb_SOOg6g"
      }
    }
  ]
}